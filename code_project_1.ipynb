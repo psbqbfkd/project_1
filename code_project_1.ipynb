{
  "nbformat": 4,
  "nbformat_minor": 0,
  "metadata": {
    "colab": {
      "provenance": []
    },
    "kernelspec": {
      "name": "python3",
      "display_name": "Python 3"
    },
    "language_info": {
      "name": "python"
    }
  },
  "cells": [
    {
      "cell_type": "code",
      "execution_count": null,
      "metadata": {
        "colab": {
          "base_uri": "https://localhost:8080/"
        },
        "id": "1Tmsgonks87T",
        "outputId": "7edaab69-b743-4dc6-fce4-baca058fb6e7"
      },
      "outputs": [
        {
          "output_type": "stream",
          "name": "stdout",
          "text": [
            "Overwriting gamma.hpp\n"
          ]
        }
      ],
      "source": [
        "%%writefile gamma.hpp\n",
        "#pragma once\n",
        "\n",
        "#include<cmath>\n",
        "#include<vector>\n",
        "\n",
        "namespace my {\n",
        "\n",
        "\tconst int IntNum = 1000;\t\t//number of interval\n",
        "\tconst double Delta = 0.001;\t//length of interval\n",
        "\n",
        "\tstd::vector<double> make_x()\n",
        "\t{\n",
        "\t\tstd::vector<double> result(IntNum);\t//크기 IntNum인 배열\n",
        "\t\tfor (int i = 0; i < IntNum; ++i)\n",
        "\t\t{\n",
        "\t\t\tresult[i] = i * Delta / (1 - i * Delta);\t//x=t/(1-t)\n",
        "\t\t}\n",
        "\t\treturn result;\n",
        "\t}\n",
        "\tconst static auto x = make_x();\t//t/(1-t)\n",
        "\n",
        "\tstd::vector<double> make_exp()\n",
        "\t{\n",
        "\t\tstd::vector<double> result(IntNum);\t//크기 IntNum인 배열\n",
        "\t\tfor (int i = 0; i < IntNum; ++i)\n",
        "\t\t{\n",
        "\t\t\tresult[i] = std::exp(-1 * x[i]);\t//exp(-x)\n",
        "\t\t}\n",
        "\t\treturn result;\n",
        "\t}\n",
        "\tconst static auto exp = make_exp();\t//exp(-t/(1-t))\n",
        "\n",
        "\t/*\n",
        "\tp>=1 일 때 감마 함수의 값을 구함\n",
        "\tnumerical integration 실행\n",
        "\t*/\n",
        "\tdouble gamma_impl(double p)\n",
        "\t{\n",
        "\t\tdouble result = 0;\n",
        "\n",
        "\t\tfor (int i = 1; i < IntNum; ++i)\n",
        "\t\t{\n",
        "\t\t\tresult += std::pow(x[i], p - 1) * exp[i] * Delta / (1 - i * Delta) / (1 - i * Delta);\n",
        "\t\t}\n",
        "\n",
        "\t\treturn result;\n",
        "\t}\n",
        "\n",
        "\n",
        "\tdouble gamma(double p)\n",
        "\t{\n",
        "\t\tif (p <= 0) { return 0; }\n",
        "\n",
        "\t\tif (p < 1) { return gamma_impl(p + 1) / p; }\n",
        "\n",
        "\t\treturn gamma_impl(p);\n",
        "\t}\n",
        "\n",
        "}"
      ]
    },
    {
      "cell_type": "code",
      "source": [
        "%%writefile main.cpp\n",
        "#include<cmath>\n",
        "#include<iostream>\n",
        "#include\"gamma.hpp\"\n",
        "\n",
        "int main()\n",
        "{\n",
        "\t/*\n",
        "\t* 문제 (b)\n",
        "\t* gamma(p) = sqrt(2)\n",
        "\t* p=?\n",
        "\t*/\n",
        "\tconst double root_2 = std::sqrt(2);\n",
        "\n",
        "\tdouble p_old = 1, p_new = 0;\n",
        "\twhile (true)\n",
        "\t{\n",
        "\t\tdouble gamma_prime = (my::gamma(p_old + 0.001) - my::gamma(p_old)) / 0.001;\n",
        "\t\tp_new = p_old + (root_2 - my::gamma(p_old)) / gamma_prime;\n",
        "\n",
        "\t\tif (std::abs(p_new - p_old) < 0.001) break;\n",
        "\t\tp_old = p_new;\n",
        "\t}\n",
        "\tdouble solution_1 = p_new;\n",
        "\n",
        "\tp_old = 2;\n",
        "\twhile (true)\n",
        "\t{\n",
        "\t\tdouble gamma_prime = (my::gamma(p_old + 0.001) - my::gamma(p_old)) / 0.001;\n",
        "\t\tp_new = p_old + (root_2 - my::gamma(p_old)) / gamma_prime;\n",
        "\n",
        "\t\tif (std::abs(p_new - p_old) < 0.001) break;\n",
        "\t\tp_old = p_new;\n",
        "\t}\n",
        "\tdouble solution_2 = p_new;\n",
        "\n",
        "\tstd::cout << \"(b)\\tgamma(p)=sqrt(2) at p=\" << solution_1 << \" or \" << solution_2 << '\\n';\n",
        "\n",
        "\t/*\n",
        "\t* 문제 (c)\n",
        "\t* minimum value\n",
        "\t*/\n",
        "\tdouble p_min = 0.1;\n",
        "\twhile (true)\n",
        "\t{\n",
        "\t\tif (my::gamma(p_min) <= my::gamma(p_min + 0.001))break;\n",
        "\n",
        "\t\tp_min += 0.001;\n",
        "\t}\n",
        "\n",
        "\tstd::cout << \"\\n(c)\\tgamma(p) has minimum value at p=\" << p_min\n",
        "\t\t<< \"\\n\\tminimum value=\" << my::gamma(p_min);\n",
        "}"
      ],
      "metadata": {
        "colab": {
          "base_uri": "https://localhost:8080/"
        },
        "id": "mZpdd25KtX-d",
        "outputId": "d9f9e73e-a93a-4268-e6d4-2f1e0f0797bd"
      },
      "execution_count": null,
      "outputs": [
        {
          "output_type": "stream",
          "name": "stdout",
          "text": [
            "Overwriting main.cpp\n"
          ]
        }
      ]
    },
    {
      "cell_type": "code",
      "source": [
        "%%bash\n",
        "g++ main.cpp -o project1\n",
        "./project1"
      ],
      "metadata": {
        "colab": {
          "base_uri": "https://localhost:8080/"
        },
        "id": "JOZcM1kStfTl",
        "outputId": "8cfadfc2-c891-45aa-a6e2-ee63756c6d92"
      },
      "execution_count": null,
      "outputs": [
        {
          "output_type": "stream",
          "name": "stdout",
          "text": [
            "(b)\tgamma(p)=sqrt(2) at p=0.634926 or 2.5855\n",
            "\n",
            "(c)\tgamma(p) has minimum value at p=1.462\n",
            "\tminimum value=0.885594"
          ]
        }
      ]
    }
  ]
}